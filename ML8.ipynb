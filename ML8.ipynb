{
 "cells": [
  {
   "cell_type": "code",
   "id": "initial_id",
   "metadata": {
    "collapsed": true,
    "ExecuteTime": {
     "end_time": "2024-05-11T15:06:05.112526Z",
     "start_time": "2024-05-11T15:05:58.490036Z"
    }
   },
   "source": [
    "import torch\n",
    "from torchsummary import summary\n",
    "from torch.utils.data import DataLoader, TensorDataset\n",
    "import torch.nn as nn\n",
    "import torch.optim as optim\n",
    "import pandas as pd\n",
    "import matplotlib.pyplot as plt\n",
    "import numpy as np\n",
    "from sklearn.preprocessing import LabelEncoder\n",
    "from sklearn.preprocessing import StandardScaler\n",
    "from sklearn.model_selection import train_test_split\n",
    "from keras.utils import to_categorical\n",
    "import MLP as sf\n",
    "from MLP import training"
   ],
   "outputs": [],
   "execution_count": 1
  },
  {
   "metadata": {},
   "cell_type": "markdown",
   "source": "## Classi e funzioni utili",
   "id": "6fc01a62612b0a8e"
  },
  {
   "metadata": {},
   "cell_type": "markdown",
   "source": "## Importazione e preparazione dati",
   "id": "aca002b7727c59b8"
  },
  {
   "metadata": {
    "ExecuteTime": {
     "end_time": "2024-05-11T15:06:13.585471Z",
     "start_time": "2024-05-11T15:06:13.368948Z"
    }
   },
   "cell_type": "code",
   "source": [
    "le = LabelEncoder()\n",
    "df = pd.read_csv('star_classification.csv')\n",
    "display(df)\n",
    "df['class'] = le.fit_transform(df['class'])"
   ],
   "id": "d118e3f7956729f",
   "outputs": [
    {
     "data": {
      "text/plain": [
       "             obj_ID       alpha      delta         u         g         r  \\\n",
       "0      1.237661e+18  135.689107  32.494632  23.87882  22.27530  20.39501   \n",
       "1      1.237665e+18  144.826101  31.274185  24.77759  22.83188  22.58444   \n",
       "2      1.237661e+18  142.188790  35.582444  25.26307  22.66389  20.60976   \n",
       "3      1.237663e+18  338.741038  -0.402828  22.13682  23.77656  21.61162   \n",
       "4      1.237680e+18  345.282593  21.183866  19.43718  17.58028  16.49747   \n",
       "...             ...         ...        ...       ...       ...       ...   \n",
       "99995  1.237679e+18   39.620709  -2.594074  22.16759  22.97586  21.90404   \n",
       "99996  1.237679e+18   29.493819  19.798874  22.69118  22.38628  20.45003   \n",
       "99997  1.237668e+18  224.587407  15.700707  21.16916  19.26997  18.20428   \n",
       "99998  1.237661e+18  212.268621  46.660365  25.35039  21.63757  19.91386   \n",
       "99999  1.237661e+18  196.896053  49.464643  22.62171  21.79745  20.60115   \n",
       "\n",
       "              i         z  run_ID  rerun_ID  cam_col  field_ID   spec_obj_ID  \\\n",
       "0      19.16573  18.79371    3606       301        2        79  6.543777e+18   \n",
       "1      21.16812  21.61427    4518       301        5       119  1.176014e+19   \n",
       "2      19.34857  18.94827    3606       301        2       120  5.152200e+18   \n",
       "3      20.50454  19.25010    4192       301        3       214  1.030107e+19   \n",
       "4      15.97711  15.54461    8102       301        3       137  6.891865e+18   \n",
       "...         ...       ...     ...       ...      ...       ...           ...   \n",
       "99995  21.30548  20.73569    7778       301        2       581  1.055431e+19   \n",
       "99996  19.75759  19.41526    7917       301        1       289  8.586351e+18   \n",
       "99997  17.69034  17.35221    5314       301        4       308  3.112008e+18   \n",
       "99998  19.07254  18.62482    3650       301        4       131  7.601080e+18   \n",
       "99999  20.00959  19.28075    3650       301        4        60  8.343152e+18   \n",
       "\n",
       "        class  redshift  plate    MJD  fiber_ID  \n",
       "0      GALAXY  0.634794   5812  56354       171  \n",
       "1      GALAXY  0.779136  10445  58158       427  \n",
       "2      GALAXY  0.644195   4576  55592       299  \n",
       "3      GALAXY  0.932346   9149  58039       775  \n",
       "4      GALAXY  0.116123   6121  56187       842  \n",
       "...       ...       ...    ...    ...       ...  \n",
       "99995  GALAXY  0.000000   9374  57749       438  \n",
       "99996  GALAXY  0.404895   7626  56934       866  \n",
       "99997  GALAXY  0.143366   2764  54535        74  \n",
       "99998  GALAXY  0.455040   6751  56368       470  \n",
       "99999  GALAXY  0.542944   7410  57104       851  \n",
       "\n",
       "[100000 rows x 18 columns]"
      ],
      "text/html": [
       "<div>\n",
       "<style scoped>\n",
       "    .dataframe tbody tr th:only-of-type {\n",
       "        vertical-align: middle;\n",
       "    }\n",
       "\n",
       "    .dataframe tbody tr th {\n",
       "        vertical-align: top;\n",
       "    }\n",
       "\n",
       "    .dataframe thead th {\n",
       "        text-align: right;\n",
       "    }\n",
       "</style>\n",
       "<table border=\"1\" class=\"dataframe\">\n",
       "  <thead>\n",
       "    <tr style=\"text-align: right;\">\n",
       "      <th></th>\n",
       "      <th>obj_ID</th>\n",
       "      <th>alpha</th>\n",
       "      <th>delta</th>\n",
       "      <th>u</th>\n",
       "      <th>g</th>\n",
       "      <th>r</th>\n",
       "      <th>i</th>\n",
       "      <th>z</th>\n",
       "      <th>run_ID</th>\n",
       "      <th>rerun_ID</th>\n",
       "      <th>cam_col</th>\n",
       "      <th>field_ID</th>\n",
       "      <th>spec_obj_ID</th>\n",
       "      <th>class</th>\n",
       "      <th>redshift</th>\n",
       "      <th>plate</th>\n",
       "      <th>MJD</th>\n",
       "      <th>fiber_ID</th>\n",
       "    </tr>\n",
       "  </thead>\n",
       "  <tbody>\n",
       "    <tr>\n",
       "      <th>0</th>\n",
       "      <td>1.237661e+18</td>\n",
       "      <td>135.689107</td>\n",
       "      <td>32.494632</td>\n",
       "      <td>23.87882</td>\n",
       "      <td>22.27530</td>\n",
       "      <td>20.39501</td>\n",
       "      <td>19.16573</td>\n",
       "      <td>18.79371</td>\n",
       "      <td>3606</td>\n",
       "      <td>301</td>\n",
       "      <td>2</td>\n",
       "      <td>79</td>\n",
       "      <td>6.543777e+18</td>\n",
       "      <td>GALAXY</td>\n",
       "      <td>0.634794</td>\n",
       "      <td>5812</td>\n",
       "      <td>56354</td>\n",
       "      <td>171</td>\n",
       "    </tr>\n",
       "    <tr>\n",
       "      <th>1</th>\n",
       "      <td>1.237665e+18</td>\n",
       "      <td>144.826101</td>\n",
       "      <td>31.274185</td>\n",
       "      <td>24.77759</td>\n",
       "      <td>22.83188</td>\n",
       "      <td>22.58444</td>\n",
       "      <td>21.16812</td>\n",
       "      <td>21.61427</td>\n",
       "      <td>4518</td>\n",
       "      <td>301</td>\n",
       "      <td>5</td>\n",
       "      <td>119</td>\n",
       "      <td>1.176014e+19</td>\n",
       "      <td>GALAXY</td>\n",
       "      <td>0.779136</td>\n",
       "      <td>10445</td>\n",
       "      <td>58158</td>\n",
       "      <td>427</td>\n",
       "    </tr>\n",
       "    <tr>\n",
       "      <th>2</th>\n",
       "      <td>1.237661e+18</td>\n",
       "      <td>142.188790</td>\n",
       "      <td>35.582444</td>\n",
       "      <td>25.26307</td>\n",
       "      <td>22.66389</td>\n",
       "      <td>20.60976</td>\n",
       "      <td>19.34857</td>\n",
       "      <td>18.94827</td>\n",
       "      <td>3606</td>\n",
       "      <td>301</td>\n",
       "      <td>2</td>\n",
       "      <td>120</td>\n",
       "      <td>5.152200e+18</td>\n",
       "      <td>GALAXY</td>\n",
       "      <td>0.644195</td>\n",
       "      <td>4576</td>\n",
       "      <td>55592</td>\n",
       "      <td>299</td>\n",
       "    </tr>\n",
       "    <tr>\n",
       "      <th>3</th>\n",
       "      <td>1.237663e+18</td>\n",
       "      <td>338.741038</td>\n",
       "      <td>-0.402828</td>\n",
       "      <td>22.13682</td>\n",
       "      <td>23.77656</td>\n",
       "      <td>21.61162</td>\n",
       "      <td>20.50454</td>\n",
       "      <td>19.25010</td>\n",
       "      <td>4192</td>\n",
       "      <td>301</td>\n",
       "      <td>3</td>\n",
       "      <td>214</td>\n",
       "      <td>1.030107e+19</td>\n",
       "      <td>GALAXY</td>\n",
       "      <td>0.932346</td>\n",
       "      <td>9149</td>\n",
       "      <td>58039</td>\n",
       "      <td>775</td>\n",
       "    </tr>\n",
       "    <tr>\n",
       "      <th>4</th>\n",
       "      <td>1.237680e+18</td>\n",
       "      <td>345.282593</td>\n",
       "      <td>21.183866</td>\n",
       "      <td>19.43718</td>\n",
       "      <td>17.58028</td>\n",
       "      <td>16.49747</td>\n",
       "      <td>15.97711</td>\n",
       "      <td>15.54461</td>\n",
       "      <td>8102</td>\n",
       "      <td>301</td>\n",
       "      <td>3</td>\n",
       "      <td>137</td>\n",
       "      <td>6.891865e+18</td>\n",
       "      <td>GALAXY</td>\n",
       "      <td>0.116123</td>\n",
       "      <td>6121</td>\n",
       "      <td>56187</td>\n",
       "      <td>842</td>\n",
       "    </tr>\n",
       "    <tr>\n",
       "      <th>...</th>\n",
       "      <td>...</td>\n",
       "      <td>...</td>\n",
       "      <td>...</td>\n",
       "      <td>...</td>\n",
       "      <td>...</td>\n",
       "      <td>...</td>\n",
       "      <td>...</td>\n",
       "      <td>...</td>\n",
       "      <td>...</td>\n",
       "      <td>...</td>\n",
       "      <td>...</td>\n",
       "      <td>...</td>\n",
       "      <td>...</td>\n",
       "      <td>...</td>\n",
       "      <td>...</td>\n",
       "      <td>...</td>\n",
       "      <td>...</td>\n",
       "      <td>...</td>\n",
       "    </tr>\n",
       "    <tr>\n",
       "      <th>99995</th>\n",
       "      <td>1.237679e+18</td>\n",
       "      <td>39.620709</td>\n",
       "      <td>-2.594074</td>\n",
       "      <td>22.16759</td>\n",
       "      <td>22.97586</td>\n",
       "      <td>21.90404</td>\n",
       "      <td>21.30548</td>\n",
       "      <td>20.73569</td>\n",
       "      <td>7778</td>\n",
       "      <td>301</td>\n",
       "      <td>2</td>\n",
       "      <td>581</td>\n",
       "      <td>1.055431e+19</td>\n",
       "      <td>GALAXY</td>\n",
       "      <td>0.000000</td>\n",
       "      <td>9374</td>\n",
       "      <td>57749</td>\n",
       "      <td>438</td>\n",
       "    </tr>\n",
       "    <tr>\n",
       "      <th>99996</th>\n",
       "      <td>1.237679e+18</td>\n",
       "      <td>29.493819</td>\n",
       "      <td>19.798874</td>\n",
       "      <td>22.69118</td>\n",
       "      <td>22.38628</td>\n",
       "      <td>20.45003</td>\n",
       "      <td>19.75759</td>\n",
       "      <td>19.41526</td>\n",
       "      <td>7917</td>\n",
       "      <td>301</td>\n",
       "      <td>1</td>\n",
       "      <td>289</td>\n",
       "      <td>8.586351e+18</td>\n",
       "      <td>GALAXY</td>\n",
       "      <td>0.404895</td>\n",
       "      <td>7626</td>\n",
       "      <td>56934</td>\n",
       "      <td>866</td>\n",
       "    </tr>\n",
       "    <tr>\n",
       "      <th>99997</th>\n",
       "      <td>1.237668e+18</td>\n",
       "      <td>224.587407</td>\n",
       "      <td>15.700707</td>\n",
       "      <td>21.16916</td>\n",
       "      <td>19.26997</td>\n",
       "      <td>18.20428</td>\n",
       "      <td>17.69034</td>\n",
       "      <td>17.35221</td>\n",
       "      <td>5314</td>\n",
       "      <td>301</td>\n",
       "      <td>4</td>\n",
       "      <td>308</td>\n",
       "      <td>3.112008e+18</td>\n",
       "      <td>GALAXY</td>\n",
       "      <td>0.143366</td>\n",
       "      <td>2764</td>\n",
       "      <td>54535</td>\n",
       "      <td>74</td>\n",
       "    </tr>\n",
       "    <tr>\n",
       "      <th>99998</th>\n",
       "      <td>1.237661e+18</td>\n",
       "      <td>212.268621</td>\n",
       "      <td>46.660365</td>\n",
       "      <td>25.35039</td>\n",
       "      <td>21.63757</td>\n",
       "      <td>19.91386</td>\n",
       "      <td>19.07254</td>\n",
       "      <td>18.62482</td>\n",
       "      <td>3650</td>\n",
       "      <td>301</td>\n",
       "      <td>4</td>\n",
       "      <td>131</td>\n",
       "      <td>7.601080e+18</td>\n",
       "      <td>GALAXY</td>\n",
       "      <td>0.455040</td>\n",
       "      <td>6751</td>\n",
       "      <td>56368</td>\n",
       "      <td>470</td>\n",
       "    </tr>\n",
       "    <tr>\n",
       "      <th>99999</th>\n",
       "      <td>1.237661e+18</td>\n",
       "      <td>196.896053</td>\n",
       "      <td>49.464643</td>\n",
       "      <td>22.62171</td>\n",
       "      <td>21.79745</td>\n",
       "      <td>20.60115</td>\n",
       "      <td>20.00959</td>\n",
       "      <td>19.28075</td>\n",
       "      <td>3650</td>\n",
       "      <td>301</td>\n",
       "      <td>4</td>\n",
       "      <td>60</td>\n",
       "      <td>8.343152e+18</td>\n",
       "      <td>GALAXY</td>\n",
       "      <td>0.542944</td>\n",
       "      <td>7410</td>\n",
       "      <td>57104</td>\n",
       "      <td>851</td>\n",
       "    </tr>\n",
       "  </tbody>\n",
       "</table>\n",
       "<p>100000 rows × 18 columns</p>\n",
       "</div>"
      ]
     },
     "metadata": {},
     "output_type": "display_data"
    }
   ],
   "execution_count": 2
  },
  {
   "metadata": {
    "ExecuteTime": {
     "end_time": "2024-05-11T15:06:14.206035Z",
     "start_time": "2024-05-11T15:06:14.201876Z"
    }
   },
   "cell_type": "code",
   "source": "scaler = StandardScaler()",
   "id": "a65483cc874e5868",
   "outputs": [],
   "execution_count": 3
  },
  {
   "metadata": {
    "ExecuteTime": {
     "end_time": "2024-05-11T15:06:14.858568Z",
     "start_time": "2024-05-11T15:06:14.824205Z"
    }
   },
   "cell_type": "code",
   "source": [
    "X_clas = df.drop(['run_ID', 'rerun_ID', 'fiber_ID', 'spec_obj_ID', 'fiber_ID', 'obj_ID', 'class'], axis=1)\n",
    "y_clas = df['class']\n",
    "X_clas = scaler.fit_transform(X_clas)\n",
    "y_clas = y_clas.values\n",
    "y_clas = y_clas.reshape((-1,1))"
   ],
   "id": "d22909bda434f48d",
   "outputs": [],
   "execution_count": 4
  },
  {
   "metadata": {
    "ExecuteTime": {
     "end_time": "2024-05-11T15:06:15.394990Z",
     "start_time": "2024-05-11T15:06:15.364006Z"
    }
   },
   "cell_type": "code",
   "source": [
    "X_regr = df.drop(['run_ID', 'rerun_ID', 'fiber_ID', 'spec_obj_ID', 'fiber_ID', 'obj_ID', 'redshift', 'class'], axis=1)\n",
    "y_regr = df['redshift']\n",
    "X_regr = scaler.fit_transform(X_regr)\n",
    "y_regr = y_regr.values\n",
    "y_regr = y_regr.reshape((-1,1))"
   ],
   "id": "d47e168df3521ede",
   "outputs": [],
   "execution_count": 5
  },
  {
   "metadata": {
    "ExecuteTime": {
     "end_time": "2024-05-11T15:06:15.924863Z",
     "start_time": "2024-05-11T15:06:15.888958Z"
    }
   },
   "cell_type": "code",
   "source": [
    "X_train, X_test, y_train, y_test = train_test_split(X_clas, y_clas, test_size=0.2, shuffle=True, random_state=42)\n",
    "X_train2, X_test2, y_train2, y_test2 = train_test_split(X_regr, y_regr, test_size=0.2, shuffle=True, random_state=42)"
   ],
   "id": "3267ce5c65ae1b3b",
   "outputs": [],
   "execution_count": 6
  },
  {
   "metadata": {
    "ExecuteTime": {
     "end_time": "2024-05-11T15:06:16.771385Z",
     "start_time": "2024-05-11T15:06:16.766345Z"
    }
   },
   "cell_type": "code",
   "source": [
    "if torch.cuda.is_available():\n",
    "    print('Numero di GPU disponibili: ',torch.cuda.device_count())\n",
    "    for i in range(0,torch.cuda.device_count()):\n",
    "        print(torch.cuda.get_device_name(i))\n",
    "\n",
    "# se la GPU è disponibile setto device='cuda', altrimenti 'cpu\n",
    "device = ('cuda' if torch.cuda.is_available() else 'cpu')\n",
    "print(f\"Computation device: {device}\\n\")"
   ],
   "id": "707d7173d15157b7",
   "outputs": [
    {
     "name": "stdout",
     "output_type": "stream",
     "text": [
      "Computation device: cpu\n",
      "\n"
     ]
    }
   ],
   "execution_count": 7
  },
  {
   "metadata": {},
   "cell_type": "markdown",
   "source": "## Definizione della rete neurale di classificazione",
   "id": "b4e9a2ee9c32f1"
  },
  {
   "metadata": {
    "ExecuteTime": {
     "end_time": "2024-05-11T15:32:53.231110Z",
     "start_time": "2024-05-11T15:32:49.297776Z"
    }
   },
   "cell_type": "code",
   "source": [
    "modello_cls = sf.MLP(input_size=X_train.shape[1], hidden_size=[258,182,128,60,30], output_size=3, type='cls_multi')\n",
    "X_train_cls, y_train_cls, X_test_cls, y_test_cls, dataloader_train, dataloader_test = modello_cls.data_system(batch_train=600, batch_test=600, X_train=X_train, y_train=y_train, X_test=X_test, y_test=y_test)"
   ],
   "id": "ea8f2474abe22d39",
   "outputs": [],
   "execution_count": 19
  },
  {
   "metadata": {
    "ExecuteTime": {
     "end_time": "2024-05-11T15:32:53.242311Z",
     "start_time": "2024-05-11T15:32:53.232466Z"
    }
   },
   "cell_type": "code",
   "source": "modello_cls.compile(modello=modello_cls, X=X_train_cls)",
   "id": "17415a44c97681d8",
   "outputs": [
    {
     "name": "stdout",
     "output_type": "stream",
     "text": [
      "----------------------------------------------------------------\n",
      "        Layer (type)               Output Shape         Param #\n",
      "================================================================\n",
      "            Linear-1             [-1, 600, 258]           3,354\n",
      "              ReLU-2             [-1, 600, 258]               0\n",
      "            Linear-3             [-1, 600, 182]          47,138\n",
      "              ReLU-4             [-1, 600, 182]               0\n",
      "            Linear-5             [-1, 600, 128]          23,424\n",
      "              ReLU-6             [-1, 600, 128]               0\n",
      "            Linear-7              [-1, 600, 60]           7,740\n",
      "              ReLU-8              [-1, 600, 60]               0\n",
      "            Linear-9              [-1, 600, 30]           1,830\n",
      "             ReLU-10              [-1, 600, 30]               0\n",
      "           Linear-11               [-1, 600, 3]              93\n",
      "          Softmax-12               [-1, 600, 3]               0\n",
      "================================================================\n",
      "Total params: 83,579\n",
      "Trainable params: 83,579\n",
      "Non-trainable params: 0\n",
      "----------------------------------------------------------------\n",
      "Input size (MB): 0.03\n",
      "Forward/backward pass size (MB): 6.05\n",
      "Params size (MB): 0.32\n",
      "Estimated Total Size (MB): 6.40\n",
      "----------------------------------------------------------------\n"
     ]
    }
   ],
   "execution_count": 20
  },
  {
   "metadata": {
    "ExecuteTime": {
     "end_time": "2024-05-11T15:34:25.986411Z",
     "start_time": "2024-05-11T15:32:54.086736Z"
    }
   },
   "cell_type": "code",
   "source": "acc, loss, epoche = training(modello=modello_cls, X_train=X_train_cls, y_train=y_train_cls, dataloader=dataloader_train, epochs=10, type='cls_multi')",
   "id": "701131fed4ec5235",
   "outputs": [
    {
     "name": "stdout",
     "output_type": "stream",
     "text": [
      "Epoch [1/30], Loss: 0.0058, Accuratezza: 0.7042\n",
      "Epoch [2/30], Loss: 0.0061, Accuratezza: 0.7550\n",
      "Epoch [3/30], Loss: 0.0060, Accuratezza: 0.7572\n",
      "Epoch [4/30], Loss: 0.0057, Accuratezza: 0.7579\n",
      "Epoch [5/30], Loss: 0.0053, Accuratezza: 0.7784\n",
      "Epoch [6/30], Loss: 0.0045, Accuratezza: 0.9189\n",
      "Epoch [7/30], Loss: 0.0046, Accuratezza: 0.9556\n",
      "Epoch [8/30], Loss: 0.0045, Accuratezza: 0.9594\n",
      "Epoch [9/30], Loss: 0.0044, Accuratezza: 0.9616\n",
      "Epoch [10/30], Loss: 0.0044, Accuratezza: 0.9638\n",
      "Epoch [11/30], Loss: 0.0044, Accuratezza: 0.9634\n",
      "Epoch [12/30], Loss: 0.0044, Accuratezza: 0.9622\n",
      "Epoch [13/30], Loss: 0.0044, Accuratezza: 0.9651\n",
      "Epoch [14/30], Loss: 0.0045, Accuratezza: 0.9622\n",
      "Epoch [15/30], Loss: 0.0045, Accuratezza: 0.9641\n",
      "Epoch [16/30], Loss: 0.0044, Accuratezza: 0.9634\n",
      "Epoch [17/30], Loss: 0.0044, Accuratezza: 0.9642\n",
      "Epoch [18/30], Loss: 0.0044, Accuratezza: 0.9645\n",
      "Epoch [19/30], Loss: 0.0043, Accuratezza: 0.9652\n",
      "Epoch [20/30], Loss: 0.0044, Accuratezza: 0.9655\n",
      "Epoch [21/30], Loss: 0.0045, Accuratezza: 0.9653\n",
      "Epoch [22/30], Loss: 0.0044, Accuratezza: 0.9637\n",
      "Epoch [23/30], Loss: 0.0044, Accuratezza: 0.9658\n",
      "Epoch [24/30], Loss: 0.0044, Accuratezza: 0.9663\n",
      "Epoch [25/30], Loss: 0.0044, Accuratezza: 0.9652\n",
      "Epoch [26/30], Loss: 0.0045, Accuratezza: 0.9655\n",
      "Epoch [27/30], Loss: 0.0044, Accuratezza: 0.9654\n",
      "Epoch [28/30], Loss: 0.0044, Accuratezza: 0.9676\n",
      "Epoch [29/30], Loss: 0.0044, Accuratezza: 0.9671\n",
      "Epoch [30/30], Loss: 0.0045, Accuratezza: 0.9656\n"
     ]
    }
   ],
   "execution_count": 21
  },
  {
   "metadata": {
    "ExecuteTime": {
     "end_time": "2024-05-11T15:36:25.342983Z",
     "start_time": "2024-05-11T15:36:25.167175Z"
    }
   },
   "cell_type": "code",
   "source": "modello_cls.plot(acc, loss, epoche)",
   "id": "ad7d13a44e1ea619",
   "outputs": [
    {
     "data": {
      "text/plain": [
       "<Figure size 640x480 with 2 Axes>"
      ],
      "image/png": "[encoded data removed]"
     },
     "metadata": {},
     "output_type": "display_data"
    }
   ],
   "execution_count": 22
  },
  {
   "metadata": {},
   "cell_type": "markdown",
   "source": "## Definizione del modello di regressione",
   "id": "ec97fc64d7018e94"
  },
  {
   "metadata": {
    "ExecuteTime": {
     "end_time": "2024-05-11T15:07:03.377428Z",
     "start_time": "2024-05-11T15:06:59.547287Z"
    }
   },
   "cell_type": "code",
   "source": [
    "modello_reg = sf.MLP(input_size=X_train2.shape[1], hidden_size=[128,128], output_size=1, type='reg')\n",
    "X_train_reg, y_train_reg, X_test_reg, y_test_reg, dataloader_train2, dataloader_test2 = modello_reg.data_system(batch_train=512, batch_test=512, X_train=X_train2, y_train=y_train2, X_test=X_test2, y_test=y_test2)"
   ],
   "id": "a65bf3c2b94eda25",
   "outputs": [],
   "execution_count": 12
  },
  {
   "metadata": {
    "ExecuteTime": {
     "end_time": "2024-05-11T15:07:05.653268Z",
     "start_time": "2024-05-11T15:07:05.645323Z"
    }
   },
   "cell_type": "code",
   "source": "modello_reg.compile(modello=modello_reg, X=X_train_reg)",
   "id": "bf27a3d4e94476b",
   "outputs": [
    {
     "name": "stdout",
     "output_type": "stream",
     "text": [
      "----------------------------------------------------------------\n",
      "        Layer (type)               Output Shape         Param #\n",
      "================================================================\n",
      "            Linear-1             [-1, 512, 128]           1,536\n",
      "              ReLU-2             [-1, 512, 128]               0\n",
      "            Linear-3             [-1, 512, 128]          16,512\n",
      "              ReLU-4             [-1, 512, 128]               0\n",
      "            Linear-5               [-1, 512, 1]             129\n",
      "================================================================\n",
      "Total params: 18,177\n",
      "Trainable params: 18,177\n",
      "Non-trainable params: 0\n",
      "----------------------------------------------------------------\n",
      "Input size (MB): 0.02\n",
      "Forward/backward pass size (MB): 2.00\n",
      "Params size (MB): 0.07\n",
      "Estimated Total Size (MB): 2.09\n",
      "----------------------------------------------------------------\n"
     ]
    }
   ],
   "execution_count": 13
  },
  {
   "metadata": {
    "ExecuteTime": {
     "end_time": "2024-05-11T15:07:35.772795Z",
     "start_time": "2024-05-11T15:07:07.526359Z"
    }
   },
   "cell_type": "code",
   "source": "loss, epoche = training(modello=modello_reg, X_train=X_train_reg, y_train=y_train_reg, dataloader=dataloader_train2, epochs=10, type='reg')",
   "id": "6eb4fc3abdb7715e",
   "outputs": [
    {
     "name": "stdout",
     "output_type": "stream",
     "text": [
      "Epoch [1/10], Loss: 0.0027\n",
      "Epoch [2/10], Loss: 0.0018\n",
      "Epoch [3/10], Loss: 0.0027\n",
      "Epoch [4/10], Loss: 0.0014\n",
      "Epoch [5/10], Loss: 0.0025\n",
      "Epoch [6/10], Loss: 0.0024\n",
      "Epoch [7/10], Loss: 0.0029\n",
      "Epoch [8/10], Loss: 0.0018\n",
      "Epoch [9/10], Loss: 0.0019\n",
      "Epoch [10/10], Loss: 0.0019\n"
     ]
    }
   ],
   "execution_count": 14
  },
  {
   "metadata": {
    "ExecuteTime": {
     "end_time": "2024-05-11T10:31:29.639973Z",
     "start_time": "2024-05-11T10:31:29.599512Z"
    }
   },
   "cell_type": "code",
   "source": "",
   "id": "49f4a2adbf9ac540",
   "outputs": [
    {
     "ename": "NameError",
     "evalue": "name 'epoche' is not defined",
     "output_type": "error",
     "traceback": [
      "\u001B[1;31m---------------------------------------------------------------------------\u001B[0m",
      "\u001B[1;31mNameError\u001B[0m                                 Traceback (most recent call last)",
      "Cell \u001B[1;32mIn[30], line 1\u001B[0m\n\u001B[1;32m----> 1\u001B[0m plt\u001B[38;5;241m.\u001B[39mplot(\u001B[43mepoche\u001B[49m,loss, \u001B[38;5;124m'\u001B[39m\u001B[38;5;124m.r\u001B[39m\u001B[38;5;124m'\u001B[39m)\n",
      "\u001B[1;31mNameError\u001B[0m: name 'epoche' is not defined"
     ]
    }
   ],
   "execution_count": 30
  },
  {
   "metadata": {},
   "cell_type": "code",
   "outputs": [],
   "execution_count": null,
   "source": "",
   "id": "e582749119499d69"
  }
 ],
 "metadata": {
  "kernelspec": {
   "display_name": "Python 3",
   "language": "python",
   "name": "python3"
  },
  "language_info": {
   "codemirror_mode": {
    "name": "ipython",
    "version": 2
   },
   "file_extension": ".py",
   "mimetype": "text/x-python",
   "name": "python",
   "nbconvert_exporter": "python",
   "pygments_lexer": "ipython2",
   "version": "2.7.6"
  }
 },
 "nbformat": 4,
 "nbformat_minor": 5
}
